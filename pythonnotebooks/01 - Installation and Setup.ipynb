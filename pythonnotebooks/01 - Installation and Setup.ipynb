{
    "metadata": {
        "kernelspec": {
            "name": "SQL",
            "display_name": "SQL",
            "language": "sql"
        },
        "language_info": {
            "name": "sql",
            "version": ""
        }
    },
    "nbformat_minor": 2,
    "nbformat": 4,
    "cells": [
        {
            "cell_type": "markdown",
            "source": [
                "![](MSFTLogo.png)\r\n",
                "# SQL Server Machine Learning Services\r\n",
                "## 01 - Installation, Overview and Setup\r\n",
                "\r\n",
                "Machine Learning Services is a feature in SQL Server that gives the ability to run Python and R scripts with relational data. You can use open-source packages and frameworks, and the Microsoft Python and R packages, for predictive analytics and machine learning. The scripts are executed in-database without moving data outside SQL Server or over the network. This article explains the basics of SQL Server Machine Learning Services and how to get started.\r\n",
                "\r\n",
                "These Jupyter Notbooks walk through the New York City Taxi well-known example for predicting tips. You'll use Python on the SQL Server, but you can also use R or other languages. [You can learn more about this example, and get the database backup you need at this reference.](https://docs.microsoft.com/en-us/sql/machine-learning/tutorials/demo-data-nyctaxi-in-sql?view=sql-server-ver15)\r\n",
                "\r\n",
                "You'll begin with enabling SQL Server Machine Learning Services - after you enable them, you need to re-start the Instance to ensure the feature is functional."
            ],
            "metadata": {
                "azdata_cell_guid": "8025b9f4-ed47-4984-9efe-992a8b778284"
            }
        },
        {
            "cell_type": "code",
            "source": [
                "-- Examine the current settings on your SQL Server Instance\r\n",
                "sp_configure"
            ],
            "metadata": {
                "azdata_cell_guid": "7b712fed-8989-4035-a452-ca4d519d4561"
            },
            "outputs": [
                {
                    "output_type": "display_data",
                    "data": {
                        "text/html": "Commands completed successfully."
                    },
                    "metadata": {}
                },
                {
                    "output_type": "display_data",
                    "data": {
                        "text/html": "Total execution time: 00:00:00.161"
                    },
                    "metadata": {}
                },
                {
                    "output_type": "execute_result",
                    "execution_count": 1,
                    "data": {
                        "application/vnd.dataresource+json": {
                            "schema": {
                                "fields": [
                                    {
                                        "name": "name"
                                    },
                                    {
                                        "name": "minimum"
                                    },
                                    {
                                        "name": "maximum"
                                    },
                                    {
                                        "name": "config_value"
                                    },
                                    {
                                        "name": "run_value"
                                    }
                                ]
                            },
                            "data": [
                                {
                                    "0": "allow polybase export",
                                    "1": "0",
                                    "2": "1",
                                    "3": "0",
                                    "4": "0"
                                },
                                {
                                    "0": "allow updates",
                                    "1": "0",
                                    "2": "1",
                                    "3": "0",
                                    "4": "0"
                                },
                                {
                                    "0": "backup checksum default",
                                    "1": "0",
                                    "2": "1",
                                    "3": "0",
                                    "4": "0"
                                },
                                {
                                    "0": "backup compression default",
                                    "1": "0",
                                    "2": "1",
                                    "3": "0",
                                    "4": "0"
                                },
                                {
                                    "0": "clr enabled",
                                    "1": "0",
                                    "2": "1",
                                    "3": "0",
                                    "4": "0"
                                },
                                {
                                    "0": "column encryption enclave type",
                                    "1": "0",
                                    "2": "2",
                                    "3": "0",
                                    "4": "0"
                                },
                                {
                                    "0": "contained database authentication",
                                    "1": "0",
                                    "2": "1",
                                    "3": "0",
                                    "4": "0"
                                },
                                {
                                    "0": "cross db ownership chaining",
                                    "1": "0",
                                    "2": "1",
                                    "3": "0",
                                    "4": "0"
                                },
                                {
                                    "0": "default language",
                                    "1": "0",
                                    "2": "9999",
                                    "3": "0",
                                    "4": "0"
                                },
                                {
                                    "0": "external scripts enabled",
                                    "1": "0",
                                    "2": "1",
                                    "3": "0",
                                    "4": "0"
                                },
                                {
                                    "0": "filestream access level",
                                    "1": "0",
                                    "2": "2",
                                    "3": "2",
                                    "4": "2"
                                },
                                {
                                    "0": "hadoop connectivity",
                                    "1": "0",
                                    "2": "7",
                                    "3": "0",
                                    "4": "0"
                                },
                                {
                                    "0": "max text repl size (B)",
                                    "1": "-1",
                                    "2": "2147483647",
                                    "3": "65536",
                                    "4": "65536"
                                },
                                {
                                    "0": "nested triggers",
                                    "1": "0",
                                    "2": "1",
                                    "3": "1",
                                    "4": "1"
                                },
                                {
                                    "0": "polybase enabled",
                                    "1": "0",
                                    "2": "1",
                                    "3": "0",
                                    "4": "0"
                                },
                                {
                                    "0": "polybase network encryption",
                                    "1": "0",
                                    "2": "1",
                                    "3": "1",
                                    "4": "1"
                                },
                                {
                                    "0": "remote access",
                                    "1": "0",
                                    "2": "1",
                                    "3": "1",
                                    "4": "1"
                                },
                                {
                                    "0": "remote admin connections",
                                    "1": "0",
                                    "2": "1",
                                    "3": "0",
                                    "4": "0"
                                },
                                {
                                    "0": "remote data archive",
                                    "1": "0",
                                    "2": "1",
                                    "3": "0",
                                    "4": "0"
                                },
                                {
                                    "0": "remote login timeout (s)",
                                    "1": "0",
                                    "2": "2147483647",
                                    "3": "10",
                                    "4": "10"
                                },
                                {
                                    "0": "remote proc trans",
                                    "1": "0",
                                    "2": "1",
                                    "3": "0",
                                    "4": "0"
                                },
                                {
                                    "0": "remote query timeout (s)",
                                    "1": "0",
                                    "2": "2147483647",
                                    "3": "600",
                                    "4": "600"
                                },
                                {
                                    "0": "server trigger recursion",
                                    "1": "0",
                                    "2": "1",
                                    "3": "1",
                                    "4": "1"
                                },
                                {
                                    "0": "show advanced options",
                                    "1": "0",
                                    "2": "1",
                                    "3": "0",
                                    "4": "0"
                                },
                                {
                                    "0": "user options",
                                    "1": "0",
                                    "2": "32767",
                                    "3": "0",
                                    "4": "0"
                                }
                            ]
                        },
                        "text/html": "<table><tr><th>name</th><th>minimum</th><th>maximum</th><th>config_value</th><th>run_value</th></tr><tr><td>allow polybase export</td><td>0</td><td>1</td><td>0</td><td>0</td></tr><tr><td>allow updates</td><td>0</td><td>1</td><td>0</td><td>0</td></tr><tr><td>backup checksum default</td><td>0</td><td>1</td><td>0</td><td>0</td></tr><tr><td>backup compression default</td><td>0</td><td>1</td><td>0</td><td>0</td></tr><tr><td>clr enabled</td><td>0</td><td>1</td><td>0</td><td>0</td></tr><tr><td>column encryption enclave type</td><td>0</td><td>2</td><td>0</td><td>0</td></tr><tr><td>contained database authentication</td><td>0</td><td>1</td><td>0</td><td>0</td></tr><tr><td>cross db ownership chaining</td><td>0</td><td>1</td><td>0</td><td>0</td></tr><tr><td>default language</td><td>0</td><td>9999</td><td>0</td><td>0</td></tr><tr><td>external scripts enabled</td><td>0</td><td>1</td><td>0</td><td>0</td></tr><tr><td>filestream access level</td><td>0</td><td>2</td><td>2</td><td>2</td></tr><tr><td>hadoop connectivity</td><td>0</td><td>7</td><td>0</td><td>0</td></tr><tr><td>max text repl size (B)</td><td>-1</td><td>2147483647</td><td>65536</td><td>65536</td></tr><tr><td>nested triggers</td><td>0</td><td>1</td><td>1</td><td>1</td></tr><tr><td>polybase enabled</td><td>0</td><td>1</td><td>0</td><td>0</td></tr><tr><td>polybase network encryption</td><td>0</td><td>1</td><td>1</td><td>1</td></tr><tr><td>remote access</td><td>0</td><td>1</td><td>1</td><td>1</td></tr><tr><td>remote admin connections</td><td>0</td><td>1</td><td>0</td><td>0</td></tr><tr><td>remote data archive</td><td>0</td><td>1</td><td>0</td><td>0</td></tr><tr><td>remote login timeout (s)</td><td>0</td><td>2147483647</td><td>10</td><td>10</td></tr><tr><td>remote proc trans</td><td>0</td><td>1</td><td>0</td><td>0</td></tr><tr><td>remote query timeout (s)</td><td>0</td><td>2147483647</td><td>600</td><td>600</td></tr><tr><td>server trigger recursion</td><td>0</td><td>1</td><td>1</td><td>1</td></tr><tr><td>show advanced options</td><td>0</td><td>1</td><td>0</td><td>0</td></tr><tr><td>user options</td><td>0</td><td>32767</td><td>0</td><td>0</td></tr></table>"
                    },
                    "metadata": {}
                }
            ],
            "execution_count": 1
        },
        {
            "cell_type": "code",
            "source": [
                "-- Enable SQL Server Machine Learning Services\r\n",
                "EXEC sp_configure  'external scripts enabled', 1\r\n",
                "RECONFIGURE WITH OVERRIDE\r\n",
                "\r\n",
                "-- Next, restart the Instance before you run the next cell"
            ],
            "metadata": {
                "azdata_cell_guid": "cac02264-0964-480c-b22e-4af74dc0a4cb",
                "tags": []
            },
            "outputs": [
                {
                    "output_type": "display_data",
                    "data": {
                        "text/html": "Configuration option 'external scripts enabled' changed from 0 to 1. Run the RECONFIGURE statement to install."
                    },
                    "metadata": {}
                },
                {
                    "output_type": "display_data",
                    "data": {
                        "text/html": "Total execution time: 00:00:00.021"
                    },
                    "metadata": {}
                }
            ],
            "execution_count": 2
        },
        {
            "cell_type": "code",
            "source": [
                "-- Check to see if the service is running (run_value should be 1)\r\n",
                "EXECUTE sp_configure  'external scripts enabled'"
            ],
            "metadata": {
                "azdata_cell_guid": "da7be6fb-f798-4218-ac55-7ffa7b0be59f"
            },
            "outputs": [
                {
                    "output_type": "display_data",
                    "data": {
                        "text/html": "Commands completed successfully."
                    },
                    "metadata": {}
                },
                {
                    "output_type": "display_data",
                    "data": {
                        "text/html": "Total execution time: 00:00:00.029"
                    },
                    "metadata": {}
                },
                {
                    "output_type": "execute_result",
                    "metadata": {},
                    "execution_count": 1,
                    "data": {
                        "application/vnd.dataresource+json": {
                            "schema": {
                                "fields": [
                                    {
                                        "name": "name"
                                    },
                                    {
                                        "name": "minimum"
                                    },
                                    {
                                        "name": "maximum"
                                    },
                                    {
                                        "name": "config_value"
                                    },
                                    {
                                        "name": "run_value"
                                    }
                                ]
                            },
                            "data": [
                                {
                                    "0": "external scripts enabled",
                                    "1": "0",
                                    "2": "1",
                                    "3": "1",
                                    "4": "1"
                                }
                            ]
                        },
                        "text/html": [
                            "<table>",
                            "<tr><th>name</th><th>minimum</th><th>maximum</th><th>config_value</th><th>run_value</th></tr>",
                            "<tr><td>external scripts enabled</td><td>0</td><td>1</td><td>1</td><td>1</td></tr>",
                            "</table>"
                        ]
                    }
                }
            ],
            "execution_count": 1
        },
        {
            "cell_type": "code",
            "source": [
                "-- Check R, and then Python\r\n",
                "\r\n",
                "EXEC sp_execute_external_script  @language =N'R',\r\n",
                "@script=N'\r\n",
                "OutputDataSet <- InputDataSet;\r\n",
                "',\r\n",
                "@input_data_1 =N'SELECT 1 AS R_Is_Functional'\r\n",
                "WITH RESULT SETS (([R_Is_Functional] int not null));\r\n",
                "GO\r\n",
                "\r\n",
                "EXEC sp_execute_external_script  @language =N'Python',\r\n",
                "@script=N'\r\n",
                "OutputDataSet = InputDataSet;\r\n",
                "',\r\n",
                "@input_data_1 =N'SELECT 1 AS Python_Is_Functional'\r\n",
                "WITH RESULT SETS (([Python_Is_Functional] int not null));\r\n",
                "GO"
            ],
            "metadata": {
                "azdata_cell_guid": "aae7bad5-1b86-4037-abfd-77ceb6b358c1"
            },
            "outputs": [
                {
                    "output_type": "execute_result",
                    "metadata": {},
                    "execution_count": 2,
                    "data": {
                        "application/vnd.dataresource+json": {
                            "schema": {
                                "fields": [
                                    {
                                        "name": "R_Is_Functional"
                                    }
                                ]
                            },
                            "data": [
                                {
                                    "0": "1"
                                }
                            ]
                        },
                        "text/html": [
                            "<table>",
                            "<tr><th>R_Is_Functional</th></tr>",
                            "<tr><td>1</td></tr>",
                            "</table>"
                        ]
                    }
                },
                {
                    "output_type": "display_data",
                    "data": {
                        "text/html": "(1 row affected)"
                    },
                    "metadata": {}
                },
                {
                    "output_type": "display_data",
                    "data": {
                        "text/html": "(1 row affected)"
                    },
                    "metadata": {}
                },
                {
                    "output_type": "display_data",
                    "data": {
                        "text/html": "Total execution time: 00:00:24.955"
                    },
                    "metadata": {}
                },
                {
                    "output_type": "execute_result",
                    "metadata": {},
                    "execution_count": 2,
                    "data": {
                        "application/vnd.dataresource+json": {
                            "schema": {
                                "fields": [
                                    {
                                        "name": "Python_Is_Functional"
                                    }
                                ]
                            },
                            "data": [
                                {
                                    "0": "1"
                                }
                            ]
                        },
                        "text/html": [
                            "<table>",
                            "<tr><th>Python_Is_Functional</th></tr>",
                            "<tr><td>1</td></tr>",
                            "</table>"
                        ]
                    }
                }
            ],
            "execution_count": 2
        },
        {
            "cell_type": "markdown",
            "source": [
                "## Download and install the Taxi Database\r\n",
                "\r\n",
                "The sample database is a SQL Server 2016 backup file hosted by Microsoft. You can restore it on SQL Server 2016 and later. File download begins immediately when you click the link.(File size is approximately 90 MB)\r\n",
                "\r\n",
                "1. Click [NYCTaxi_Sample.bak to download the database backup file](https://sqlmldoccontent.blob.core.windows.net/sqlml/NYCTaxi_Sample.bak).\r\n",
                "2. Copy the file to **C:\\Program files\\Microsoft SQL Server\\MSSQL-instance-name\\MSSQL\\Backup** folder.\r\n",
                "3. In Management Studio, right-click **Databases** and select **Restore Files and File Groups**.\r\n",
                "4. Enter **NYCTaxi** as the database name.\r\n",
                "5. Click **From device** and then open the file selection page to select the backup file. Click Add to select **NYCTaxi_Sample.bak**.\r\n",
                "6. Select the **Restore** checkbox and click **OK** to restore the database.\r\n",
                "\r\n",
                "Run a few queries to examine the database contents:"
            ],
            "metadata": {
                "azdata_cell_guid": "c12d7fc4-30de-4729-b02b-6ac3c8c4481c"
            }
        },
        {
            "cell_type": "code",
            "source": [
                "USE NYCTaxi;\r\n",
                "GO\r\n",
                "\r\n",
                "SELECT TOP(10) * FROM dbo.nyctaxi_sample;\r\n",
                "SELECT COUNT(*) FROM dbo.nyctaxi_sample;"
            ],
            "metadata": {
                "azdata_cell_guid": "46e55276-51c6-4c41-aec4-58d138c00169"
            },
            "outputs": [
                {
                    "output_type": "display_data",
                    "data": {
                        "text/html": "Commands completed successfully."
                    },
                    "metadata": {}
                },
                {
                    "output_type": "display_data",
                    "data": {
                        "text/html": "(10 rows affected)"
                    },
                    "metadata": {}
                },
                {
                    "output_type": "display_data",
                    "data": {
                        "text/html": "(1 row affected)"
                    },
                    "metadata": {}
                },
                {
                    "output_type": "display_data",
                    "data": {
                        "text/html": "Total execution time: 00:00:02.081"
                    },
                    "metadata": {}
                },
                {
                    "output_type": "execute_result",
                    "metadata": {},
                    "execution_count": 3,
                    "data": {
                        "application/vnd.dataresource+json": {
                            "schema": {
                                "fields": [
                                    {
                                        "name": "medallion"
                                    },
                                    {
                                        "name": "hack_license"
                                    },
                                    {
                                        "name": "vendor_id"
                                    },
                                    {
                                        "name": "rate_code"
                                    },
                                    {
                                        "name": "store_and_fwd_flag"
                                    },
                                    {
                                        "name": "pickup_datetime"
                                    },
                                    {
                                        "name": "dropoff_datetime"
                                    },
                                    {
                                        "name": "passenger_count"
                                    },
                                    {
                                        "name": "trip_time_in_secs"
                                    },
                                    {
                                        "name": "trip_distance"
                                    },
                                    {
                                        "name": "pickup_longitude"
                                    },
                                    {
                                        "name": "pickup_latitude"
                                    },
                                    {
                                        "name": "dropoff_longitude"
                                    },
                                    {
                                        "name": "dropoff_latitude"
                                    },
                                    {
                                        "name": "payment_type"
                                    },
                                    {
                                        "name": "fare_amount"
                                    },
                                    {
                                        "name": "surcharge"
                                    },
                                    {
                                        "name": "mta_tax"
                                    },
                                    {
                                        "name": "tolls_amount"
                                    },
                                    {
                                        "name": "total_amount"
                                    },
                                    {
                                        "name": "tip_amount"
                                    },
                                    {
                                        "name": "tipped"
                                    },
                                    {
                                        "name": "tip_class"
                                    }
                                ]
                            },
                            "data": [
                                {
                                    "0": "C6F86DFD1C85EEFBFC234FCB953E1D4B",
                                    "1": "79C37DA10EA88D6B467F9FA2B29F8006",
                                    "2": "CMT",
                                    "3": "1  ",
                                    "4": "N  ",
                                    "5": "2013-11-17 12:26:45.000",
                                    "6": "2013-11-17 12:32:02.000",
                                    "7": "1",
                                    "8": "316",
                                    "9": "0.8",
                                    "10": "-73.98864",
                                    "11": "40.748764",
                                    "12": "-74.002075",
                                    "13": "40.754913",
                                    "14": "CSH",
                                    "15": "5.5",
                                    "16": "0",
                                    "17": "0.5",
                                    "18": "0",
                                    "19": "6",
                                    "20": "0",
                                    "21": "0",
                                    "22": "0"
                                },
                                {
                                    "0": "C8B42D06B8961C18CE435A51FE6A3C0B",
                                    "1": "59A32B69453C9E2EAAFC4C822A914DC9",
                                    "2": "CMT",
                                    "3": "1  ",
                                    "4": "N  ",
                                    "5": "2013-11-20 06:33:57.000",
                                    "6": "2013-11-20 06:38:47.000",
                                    "7": "1",
                                    "8": "289",
                                    "9": "0.8",
                                    "10": "-73.980888",
                                    "11": "40.753613",
                                    "12": "-73.977753",
                                    "13": "40.763477",
                                    "14": "CSH",
                                    "15": "5.5",
                                    "16": "0",
                                    "17": "0.5",
                                    "18": "0",
                                    "19": "6",
                                    "20": "0",
                                    "21": "0",
                                    "22": "0"
                                },
                                {
                                    "0": "C291E4F982CE74F51D4C388CD2595B80",
                                    "1": "3BD04BB028B2145779C0D3F6DD42ACD6",
                                    "2": "CMT",
                                    "3": "1  ",
                                    "4": "N  ",
                                    "5": "2013-12-21 12:57:03.000",
                                    "6": "2013-12-21 13:02:26.000",
                                    "7": "1",
                                    "8": "322",
                                    "9": "0.8",
                                    "10": "-73.986847",
                                    "11": "40.750877",
                                    "12": "-73.979164",
                                    "13": "40.757526",
                                    "14": "CSH",
                                    "15": "5.5",
                                    "16": "0",
                                    "17": "0.5",
                                    "18": "0",
                                    "19": "6",
                                    "20": "0",
                                    "21": "0",
                                    "22": "0"
                                },
                                {
                                    "0": "C2B9067BB92017120FEF9865217E5E53",
                                    "1": "7D2921FDCC869190E736D3B731C66DC5",
                                    "2": "CMT",
                                    "3": "1  ",
                                    "4": "N  ",
                                    "5": "2013-12-08 11:09:52.000",
                                    "6": "2013-12-08 11:14:13.000",
                                    "7": "1",
                                    "8": "260",
                                    "9": "0.8",
                                    "10": "-73.978096",
                                    "11": "40.72953",
                                    "12": "-73.988503",
                                    "13": "40.736359",
                                    "14": "CSH",
                                    "15": "5.5",
                                    "16": "0",
                                    "17": "0.5",
                                    "18": "0",
                                    "19": "6",
                                    "20": "0",
                                    "21": "0",
                                    "22": "0"
                                },
                                {
                                    "0": "BF0445196F40892C2E39501333833245",
                                    "1": "0B071535952183F132EB38B643E2252E",
                                    "2": "CMT",
                                    "3": "1  ",
                                    "4": "N  ",
                                    "5": "2013-10-21 10:58:58.000",
                                    "6": "2013-10-21 11:03:50.000",
                                    "7": "1",
                                    "8": "291",
                                    "9": "0.8",
                                    "10": "-73.987923",
                                    "11": "40.769955",
                                    "12": "-73.981415",
                                    "13": "40.780495",
                                    "14": "CSH",
                                    "15": "5.5",
                                    "16": "0",
                                    "17": "0.5",
                                    "18": "0",
                                    "19": "6",
                                    "20": "0",
                                    "21": "0",
                                    "22": "0"
                                },
                                {
                                    "0": "BF4E062AE5D0C2EF0B82C4A6EBA19CA9",
                                    "1": "55896BD722D3504FDA94C38A17603EC1",
                                    "2": "CMT",
                                    "3": "1  ",
                                    "4": "N  ",
                                    "5": "2013-10-31 13:38:26.000",
                                    "6": "2013-10-31 13:43:59.000",
                                    "7": "1",
                                    "8": "332",
                                    "9": "0.8",
                                    "10": "-74.000748",
                                    "11": "40.718441",
                                    "12": "-73.988609",
                                    "13": "40.718552",
                                    "14": "CSH",
                                    "15": "5.5",
                                    "16": "0",
                                    "17": "0.5",
                                    "18": "0",
                                    "19": "6",
                                    "20": "0",
                                    "21": "0",
                                    "22": "0"
                                },
                                {
                                    "0": "C34BAE8B360BEFDAFEA5B28CDEC56586",
                                    "1": "40411995121B7F36031730CB5BDB6906",
                                    "2": "CMT",
                                    "3": "1  ",
                                    "4": "N  ",
                                    "5": "2013-12-14 17:42:00.000",
                                    "6": "2013-12-14 17:47:47.000",
                                    "7": "1",
                                    "8": "347",
                                    "9": "0.8",
                                    "10": "-73.971077",
                                    "11": "40.788174",
                                    "12": "-73.979683",
                                    "13": "40.783722",
                                    "14": "CSH",
                                    "15": "5.5",
                                    "16": "0",
                                    "17": "0.5",
                                    "18": "0",
                                    "19": "6",
                                    "20": "0",
                                    "21": "0",
                                    "22": "0"
                                },
                                {
                                    "0": "C34CEB1F63F59A43297B9DFB35F9C561",
                                    "1": "F6D14E7742FE7EFFCE16E55CB62274FC",
                                    "2": "CMT",
                                    "3": "1  ",
                                    "4": "N  ",
                                    "5": "2013-12-07 13:06:17.000",
                                    "6": "2013-12-07 13:11:29.000",
                                    "7": "1",
                                    "8": "312",
                                    "9": "0.8",
                                    "10": "-74.014412",
                                    "11": "40.703903",
                                    "12": "-74.003571",
                                    "13": "40.706619",
                                    "14": "CSH",
                                    "15": "5.5",
                                    "16": "0",
                                    "17": "0.5",
                                    "18": "0",
                                    "19": "6",
                                    "20": "0",
                                    "21": "0",
                                    "22": "0"
                                },
                                {
                                    "0": "CB86B19E3AAE896309FCD5226B0AEFB5",
                                    "1": "56141DE00CE0C3D480782C196B535BC3",
                                    "2": "CMT",
                                    "3": "1  ",
                                    "4": "N  ",
                                    "5": "2013-11-02 14:58:16.000",
                                    "6": "2013-11-02 15:03:01.000",
                                    "7": "1",
                                    "8": "285",
                                    "9": "0.8",
                                    "10": "-73.994019",
                                    "11": "40.751293",
                                    "12": "-73.981377",
                                    "13": "40.746857",
                                    "14": "CSH",
                                    "15": "5.5",
                                    "16": "0",
                                    "17": "0.5",
                                    "18": "0",
                                    "19": "6",
                                    "20": "0",
                                    "21": "0",
                                    "22": "0"
                                },
                                {
                                    "0": "C2009A8A5FDFE471692880EE0F2476EF",
                                    "1": "56077F7CDA24CCB1E776E36C1D471170",
                                    "2": "CMT",
                                    "3": "1  ",
                                    "4": "N  ",
                                    "5": "2013-10-06 09:42:16.000",
                                    "6": "2013-10-06 09:47:06.000",
                                    "7": "1",
                                    "8": "289",
                                    "9": "0.8",
                                    "10": "-74.010429",
                                    "11": "40.71891",
                                    "12": "-74.008064",
                                    "13": "40.709061",
                                    "14": "CSH",
                                    "15": "5.5",
                                    "16": "0",
                                    "17": "0.5",
                                    "18": "0",
                                    "19": "6",
                                    "20": "0",
                                    "21": "0",
                                    "22": "0"
                                }
                            ]
                        },
                        "text/html": [
                            "<table>",
                            "<tr><th>medallion</th><th>hack_license</th><th>vendor_id</th><th>rate_code</th><th>store_and_fwd_flag</th><th>pickup_datetime</th><th>dropoff_datetime</th><th>passenger_count</th><th>trip_time_in_secs</th><th>trip_distance</th><th>pickup_longitude</th><th>pickup_latitude</th><th>dropoff_longitude</th><th>dropoff_latitude</th><th>payment_type</th><th>fare_amount</th><th>surcharge</th><th>mta_tax</th><th>tolls_amount</th><th>total_amount</th><th>tip_amount</th><th>tipped</th><th>tip_class</th></tr>",
                            "<tr><td>C6F86DFD1C85EEFBFC234FCB953E1D4B</td><td>79C37DA10EA88D6B467F9FA2B29F8006</td><td>CMT</td><td>1  </td><td>N  </td><td>2013-11-17 12:26:45.000</td><td>2013-11-17 12:32:02.000</td><td>1</td><td>316</td><td>0.8</td><td>-73.98864</td><td>40.748764</td><td>-74.002075</td><td>40.754913</td><td>CSH</td><td>5.5</td><td>0</td><td>0.5</td><td>0</td><td>6</td><td>0</td><td>0</td><td>0</td></tr>",
                            "<tr><td>C8B42D06B8961C18CE435A51FE6A3C0B</td><td>59A32B69453C9E2EAAFC4C822A914DC9</td><td>CMT</td><td>1  </td><td>N  </td><td>2013-11-20 06:33:57.000</td><td>2013-11-20 06:38:47.000</td><td>1</td><td>289</td><td>0.8</td><td>-73.980888</td><td>40.753613</td><td>-73.977753</td><td>40.763477</td><td>CSH</td><td>5.5</td><td>0</td><td>0.5</td><td>0</td><td>6</td><td>0</td><td>0</td><td>0</td></tr>",
                            "<tr><td>C291E4F982CE74F51D4C388CD2595B80</td><td>3BD04BB028B2145779C0D3F6DD42ACD6</td><td>CMT</td><td>1  </td><td>N  </td><td>2013-12-21 12:57:03.000</td><td>2013-12-21 13:02:26.000</td><td>1</td><td>322</td><td>0.8</td><td>-73.986847</td><td>40.750877</td><td>-73.979164</td><td>40.757526</td><td>CSH</td><td>5.5</td><td>0</td><td>0.5</td><td>0</td><td>6</td><td>0</td><td>0</td><td>0</td></tr>",
                            "<tr><td>C2B9067BB92017120FEF9865217E5E53</td><td>7D2921FDCC869190E736D3B731C66DC5</td><td>CMT</td><td>1  </td><td>N  </td><td>2013-12-08 11:09:52.000</td><td>2013-12-08 11:14:13.000</td><td>1</td><td>260</td><td>0.8</td><td>-73.978096</td><td>40.72953</td><td>-73.988503</td><td>40.736359</td><td>CSH</td><td>5.5</td><td>0</td><td>0.5</td><td>0</td><td>6</td><td>0</td><td>0</td><td>0</td></tr>",
                            "<tr><td>BF0445196F40892C2E39501333833245</td><td>0B071535952183F132EB38B643E2252E</td><td>CMT</td><td>1  </td><td>N  </td><td>2013-10-21 10:58:58.000</td><td>2013-10-21 11:03:50.000</td><td>1</td><td>291</td><td>0.8</td><td>-73.987923</td><td>40.769955</td><td>-73.981415</td><td>40.780495</td><td>CSH</td><td>5.5</td><td>0</td><td>0.5</td><td>0</td><td>6</td><td>0</td><td>0</td><td>0</td></tr>",
                            "<tr><td>BF4E062AE5D0C2EF0B82C4A6EBA19CA9</td><td>55896BD722D3504FDA94C38A17603EC1</td><td>CMT</td><td>1  </td><td>N  </td><td>2013-10-31 13:38:26.000</td><td>2013-10-31 13:43:59.000</td><td>1</td><td>332</td><td>0.8</td><td>-74.000748</td><td>40.718441</td><td>-73.988609</td><td>40.718552</td><td>CSH</td><td>5.5</td><td>0</td><td>0.5</td><td>0</td><td>6</td><td>0</td><td>0</td><td>0</td></tr>",
                            "<tr><td>C34BAE8B360BEFDAFEA5B28CDEC56586</td><td>40411995121B7F36031730CB5BDB6906</td><td>CMT</td><td>1  </td><td>N  </td><td>2013-12-14 17:42:00.000</td><td>2013-12-14 17:47:47.000</td><td>1</td><td>347</td><td>0.8</td><td>-73.971077</td><td>40.788174</td><td>-73.979683</td><td>40.783722</td><td>CSH</td><td>5.5</td><td>0</td><td>0.5</td><td>0</td><td>6</td><td>0</td><td>0</td><td>0</td></tr>",
                            "<tr><td>C34CEB1F63F59A43297B9DFB35F9C561</td><td>F6D14E7742FE7EFFCE16E55CB62274FC</td><td>CMT</td><td>1  </td><td>N  </td><td>2013-12-07 13:06:17.000</td><td>2013-12-07 13:11:29.000</td><td>1</td><td>312</td><td>0.8</td><td>-74.014412</td><td>40.703903</td><td>-74.003571</td><td>40.706619</td><td>CSH</td><td>5.5</td><td>0</td><td>0.5</td><td>0</td><td>6</td><td>0</td><td>0</td><td>0</td></tr>",
                            "<tr><td>CB86B19E3AAE896309FCD5226B0AEFB5</td><td>56141DE00CE0C3D480782C196B535BC3</td><td>CMT</td><td>1  </td><td>N  </td><td>2013-11-02 14:58:16.000</td><td>2013-11-02 15:03:01.000</td><td>1</td><td>285</td><td>0.8</td><td>-73.994019</td><td>40.751293</td><td>-73.981377</td><td>40.746857</td><td>CSH</td><td>5.5</td><td>0</td><td>0.5</td><td>0</td><td>6</td><td>0</td><td>0</td><td>0</td></tr>",
                            "<tr><td>C2009A8A5FDFE471692880EE0F2476EF</td><td>56077F7CDA24CCB1E776E36C1D471170</td><td>CMT</td><td>1  </td><td>N  </td><td>2013-10-06 09:42:16.000</td><td>2013-10-06 09:47:06.000</td><td>1</td><td>289</td><td>0.8</td><td>-74.010429</td><td>40.71891</td><td>-74.008064</td><td>40.709061</td><td>CSH</td><td>5.5</td><td>0</td><td>0.5</td><td>0</td><td>6</td><td>0</td><td>0</td><td>0</td></tr>",
                            "</table>"
                        ]
                    }
                },
                {
                    "output_type": "execute_result",
                    "metadata": {},
                    "execution_count": 3,
                    "data": {
                        "application/vnd.dataresource+json": {
                            "schema": {
                                "fields": [
                                    {
                                        "name": "(No column name)"
                                    }
                                ]
                            },
                            "data": [
                                {
                                    "0": "1703957"
                                }
                            ]
                        },
                        "text/html": [
                            "<table>",
                            "<tr><th>(No column name)</th></tr>",
                            "<tr><td>1703957</td></tr>",
                            "</table>"
                        ]
                    }
                }
            ],
            "execution_count": 3
        },
        {
            "cell_type": "code",
            "source": [
                "SELECT DISTINCT [passenger_count]\r\n",
                "    , ROUND (SUM ([fare_amount]),0) as TotalFares\r\n",
                "    , ROUND (AVG ([fare_amount]),0) as AvgFares\r\n",
                "FROM [dbo].[nyctaxi_sample]\r\n",
                "GROUP BY [passenger_count]\r\n",
                "ORDER BY  AvgFares DESC;\r\n",
                "GO\r\n",
                ""
            ],
            "metadata": {
                "azdata_cell_guid": "01293e44-0e31-4210-9dc8-c7f8384248cf"
            },
            "outputs": [
                {
                    "output_type": "display_data",
                    "data": {
                        "text/html": "(8 rows affected)"
                    },
                    "metadata": {}
                },
                {
                    "output_type": "display_data",
                    "data": {
                        "text/html": "Total execution time: 00:00:00.139"
                    },
                    "metadata": {}
                },
                {
                    "output_type": "execute_result",
                    "metadata": {},
                    "execution_count": 4,
                    "data": {
                        "application/vnd.dataresource+json": {
                            "schema": {
                                "fields": [
                                    {
                                        "name": "passenger_count"
                                    },
                                    {
                                        "name": "TotalFares"
                                    },
                                    {
                                        "name": "AvgFares"
                                    }
                                ]
                            },
                            "data": [
                                {
                                    "0": "0",
                                    "1": "388",
                                    "2": "43"
                                },
                                {
                                    "0": "3",
                                    "1": "923924",
                                    "2": "13"
                                },
                                {
                                    "0": "4",
                                    "1": "462841",
                                    "2": "13"
                                },
                                {
                                    "0": "2",
                                    "1": "2971879",
                                    "2": "13"
                                },
                                {
                                    "0": "1",
                                    "1": "14559642",
                                    "2": "12"
                                },
                                {
                                    "0": "5",
                                    "1": "1213683",
                                    "2": "12"
                                },
                                {
                                    "0": "6",
                                    "1": "832558",
                                    "2": "12"
                                },
                                {
                                    "0": "8",
                                    "1": "8",
                                    "2": "8"
                                }
                            ]
                        },
                        "text/html": [
                            "<table>",
                            "<tr><th>passenger_count</th><th>TotalFares</th><th>AvgFares</th></tr>",
                            "<tr><td>0</td><td>388</td><td>43</td></tr>",
                            "<tr><td>3</td><td>923924</td><td>13</td></tr>",
                            "<tr><td>4</td><td>462841</td><td>13</td></tr>",
                            "<tr><td>2</td><td>2971879</td><td>13</td></tr>",
                            "<tr><td>1</td><td>14559642</td><td>12</td></tr>",
                            "<tr><td>5</td><td>1213683</td><td>12</td></tr>",
                            "<tr><td>6</td><td>832558</td><td>12</td></tr>",
                            "<tr><td>8</td><td>8</td><td>8</td></tr>",
                            "</table>"
                        ]
                    }
                }
            ],
            "execution_count": 4
        },
        {
            "cell_type": "markdown",
            "source": [
                "## Completing the Data Exploration in T-SQL\r\n",
                "\r\n",
                "You can now use more Transact-SQL statements to more fully explore the dataset. The database is now in a secure, highly-performing Relational system, and you can train models, store and version them, and even score all from within this system using Python, R and other languages. This allows the Database Administrator control over the platform, and full flexibility for the Data Scientist to create and implement models. \r\n",
                "\r\n",
                "Now proceed to the **02 - Explore and visualize the data using Python** Jupyter Notebook."
            ],
            "metadata": {
                "azdata_cell_guid": "4a50141b-344b-4e49-aebd-2fb6a5099406"
            }
        }
    ]
}